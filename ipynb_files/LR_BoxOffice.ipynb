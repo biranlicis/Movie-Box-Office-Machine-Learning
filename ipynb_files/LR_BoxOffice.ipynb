{
 "cells": [
  {
   "cell_type": "markdown",
   "metadata": {},
   "source": [
    "# Prepare the Data\n",
    "First, import the libraries you will need and prepare the training and test data:"
   ]
  },
  {
   "cell_type": "code",
   "execution_count": 10,
   "metadata": {
    "collapsed": false
   },
   "outputs": [],
   "source": [
    "\n",
    "from pyspark.sql.types import *\n",
    "from pyspark.sql.functions import *\n",
    "\n",
    "from pyspark.ml import Pipeline\n",
    "from pyspark.ml.regression import LinearRegression\n",
    "from pyspark.ml.feature import VectorAssembler\n",
    "from pyspark.ml.tuning import ParamGridBuilder, CrossValidator\n",
    "from pyspark.ml.evaluation import RegressionEvaluator\n",
    "\n"
   ]
  },
  {
   "cell_type": "markdown",
   "metadata": {},
   "source": [
    "# Data description\n",
    "Budget: the budget of the movie,\n",
    "domesticgross: the revenue of movie in the United States,\n",
    "globalgross: the revenue of movie globally,\n",
    "duration: the length of the movie,\n",
    "language: the language of the movie,\n",
    "country: country that release the movie,\n",
    "imdb_score: the rating of movie,\n",
    "majorgenres: the major type of the movie"
   ]
  },
  {
   "cell_type": "code",
   "execution_count": 11,
   "metadata": {
    "collapsed": false
   },
   "outputs": [
    {
     "data": {
      "text/plain": [
       "StructType(List(StructField(Budget,DoubleType,false),StructField(domesticgross,DoubleType,false),StructField(globalgross,DoubleType,false),StructField(duration,DoubleType,false),StructField(language,IntegerType,false),StructField(country,IntegerType,false),StructField(imdb_score,DoubleType,false),StructField(majorgenres,IntegerType,false)))"
      ]
     },
     "execution_count": 11,
     "metadata": {},
     "output_type": "execute_result"
    }
   ],
   "source": [
    "sqlContext = SQLContext(sc)\n",
    "movieschema = StructType([\\\n",
    "        StructField('Budget', DoubleType(), False),\\\n",
    "        StructField('domesticgross', DoubleType(), False),\\\n",
    "        StructField('globalgross', DoubleType(), False),\\\n",
    "        StructField('duration', DoubleType(), False),\\\n",
    "        StructField('language', IntegerType(), False),\\\n",
    "        StructField('country', IntegerType(), False),\\\n",
    "        StructField('imdb_score', DoubleType(), False),\\\n",
    "        StructField('majorgenres', IntegerType(), False),\\\n",
    "    ])\n",
    "movieschema"
   ]
  },
  {
   "cell_type": "markdown",
   "metadata": {},
   "source": [
    "# Insert SparkSession DataFrame from the file\n",
    "click the insert to code button on the csv file then click on the insert SparkSession DataFrame"
   ]
  },
  {
   "cell_type": "code",
   "execution_count": 12,
   "metadata": {
    "collapsed": false
   },
   "outputs": [
    {
     "data": {
      "text/plain": [
       "[Row(Budget=u'1', domesticgross=u'1', globalgross=u'2783918982', duration=u'0.339285714285714', language=u'1', country=u'1', imdb_score=u'0.79746835443038', majorgenres=u'2'),\n",
       " Row(Budget=u'0.705877508570729', domesticgross=u'0.263079399203666', globalgross=u'879620923', duration=u'0.279761904761905', language=u'1', country=u'2', imdb_score=u'0.658227848101266', majorgenres=u'2'),\n",
       " Row(Budget=u'0.647053010284875', domesticgross=u'0.589262914535552', globalgross=u'1084439099', duration=u'0.311507936507937', language=u'1', country=u'1', imdb_score=u'0.873417721518987', majorgenres=u'2'),\n",
       " Row(Budget=u'0.647053010284875', domesticgross=u'0.117423901647895', globalgross=u'260002115', duration=u'0.283730158730159', language=u'1', country=u'1', imdb_score=u'0.620253164556962', majorgenres=u'2'),\n",
       " Row(Budget=u'0.647053010284875', domesticgross=u'0.0960652146956492', globalgross=u'282778100', duration=u'0.248015873015873', language=u'1', country=u'1', imdb_score=u'0.632911392405063', majorgenres=u'2')]"
      ]
     },
     "execution_count": 12,
     "metadata": {},
     "output_type": "execute_result"
    }
   ],
   "source": [
    "\n",
    "from pyspark.sql import SparkSession\n",
    "\n",
    "# @hidden_cell\n",
    "# This function is used to setup the access of Spark to your Object Storage. The definition contains your credentials.\n",
    "# You might want to remove those credentials before you share your notebook.\n",
    "def set_hadoop_config_with_credentials_ce6b74a554044ac18da2684a94f2bf47(name):\n",
    "    \"\"\"This function sets the Hadoop configuration so it is possible to\n",
    "    access data from Bluemix Object Storage using Spark\"\"\"\n",
    "\n",
    "    prefix = 'fs.swift.service.' + name\n",
    "    hconf = sc._jsc.hadoopConfiguration()\n",
    "    hconf.set(prefix + '.auth.url', 'https://identity.open.softlayer.com'+'/v3/auth/tokens')\n",
    "    hconf.set(prefix + '.auth.endpoint.prefix', 'endpoints')\n",
    "    hconf.set(prefix + '.tenant', '571b641469df40cdb9cdf21a9ec8bdf6')\n",
    "    hconf.set(prefix + '.username', 'bd693708437147129b446bf93514b247')\n",
    "    hconf.set(prefix + '.password', 'k9a5-oNA.w#LaAW(')\n",
    "    hconf.setInt(prefix + '.http.port', 8080)\n",
    "    hconf.set(prefix + '.region', 'dallas')\n",
    "    hconf.setBoolean(prefix + '.public', False)\n",
    "\n",
    "# you can choose any name\n",
    "name = 'keystone'\n",
    "set_hadoop_config_with_credentials_ce6b74a554044ac18da2684a94f2bf47(name)\n",
    "\n",
    "spark = SparkSession.builder.getOrCreate()\n",
    "\n",
    "df_data_1 = spark.read\\\n",
    "  .format('org.apache.spark.sql.execution.datasources.csv.CSVFileFormat')\\\n",
    "  .option('header', 'true')\\\n",
    "  .load('swift://sparkProject.' + name + '/movieprojectazure.csv')\n",
    "df_data_1.take(5)\n"
   ]
  },
  {
   "cell_type": "code",
   "execution_count": 13,
   "metadata": {
    "collapsed": false
   },
   "outputs": [
    {
     "name": "stdout",
     "output_type": "stream",
     "text": [
      "+-----------------+------------------+-------------+-----------------+--------+-------+-----------------+-----------+\n",
      "|           Budget|     domesticgross|  globalgross|         duration|language|country|       imdb_score|majorgenres|\n",
      "+-----------------+------------------+-------------+-----------------+--------+-------+-----------------+-----------+\n",
      "|              1.0|               1.0|2.783918982E9|0.339285714285714|       1|      1| 0.79746835443038|          2|\n",
      "|0.705877508570729| 0.263079399203666| 8.79620923E8|0.279761904761905|       1|      2|0.658227848101266|          2|\n",
      "|0.647053010284875| 0.589262914535552|1.084439099E9|0.311507936507937|       1|      1|0.873417721518987|          2|\n",
      "|0.647053010284875| 0.117423901647895| 2.60002115E8|0.283730158730159|       1|      1|0.620253164556962|          2|\n",
      "|0.647053010284875|0.0960652146956492|   2.827781E8|0.248015873015873|       1|      1|0.632911392405063|          2|\n",
      "+-----------------+------------------+-------------+-----------------+--------+-------+-----------------+-----------+\n",
      "only showing top 5 rows\n",
      "\n"
     ]
    }
   ],
   "source": [
    "csv = spark.read\\\n",
    "  .format('org.apache.spark.sql.execution.datasources.csv.CSVFileFormat')\\\n",
    "  .option('header', 'true')\\\n",
    "  .schema(movieschema)\\\n",
    "  .load('swift://sparkProject.' + name + '/movieprojectazure.csv')\n",
    "csv.show(5)"
   ]
  },
  {
   "cell_type": "markdown",
   "metadata": {},
   "source": [
    "# Split data\n",
    "select columns and Split data to 70% of training and 30% of testing"
   ]
  },
  {
   "cell_type": "code",
   "execution_count": 14,
   "metadata": {
    "collapsed": false
   },
   "outputs": [],
   "source": [
    "# Select features and label\n",
    "data = csv.select(\"Budget\", \"domesticgross\", \"duration\",'language','country',\"imdb_score\",'majorgenres', col(\"globalgross\").alias(\"label\"))\n",
    "\n",
    "# Split the data\n",
    "splits = data.randomSplit([0.7, 0.3])\n",
    "train = splits[0]\n",
    "test = splits[1].withColumnRenamed(\"label\", \"trueLabel\")"
   ]
  },
  {
   "cell_type": "markdown",
   "metadata": {},
   "source": [
    "# Define the Pipeline\n",
    "Now define a pipeline that creates a feature vector and trains a regression model"
   ]
  },
  {
   "cell_type": "code",
   "execution_count": 15,
   "metadata": {
    "collapsed": false
   },
   "outputs": [],
   "source": [
    "# Define the pipeline\n",
    "assembler = VectorAssembler(inputCols = [\"Budget\", \"domesticgross\", \"duration\",'language','country',\"imdb_score\",'majorgenres'], outputCol=\"features\")\n",
    "lr = LinearRegression(labelCol=\"label\",featuresCol=\"features\")\n",
    "\n",
    "pipeline = Pipeline(stages=[assembler, lr])\n"
   ]
  },
  {
   "cell_type": "markdown",
   "metadata": {},
   "source": [
    "# Tune Parameters\n",
    "You can tune parameters to find the best model for your data. To do this you can use the  **CrossValidator** class to evaluate each combination of parameters defined in a **ParameterGrid** against multiple *folds* of the data split into training and validation datasets, in order to find the best performing parameters. Note that this can take a long time to run because every parameter combination is tried multiple times."
   ]
  },
  {
   "cell_type": "code",
   "execution_count": 16,
   "metadata": {
    "collapsed": false
   },
   "outputs": [],
   "source": [
    "\n",
    "paramGrid = ParamGridBuilder().addGrid(lr.regParam, [0.3, 0.01]).addGrid(lr.maxIter, [10, 5]).build()\n",
    "# TODO: K = 2, you may test it with 5, 10\n",
    "# K=2, 5, 10: Root Mean Square Error (RMSE): 13.2\n",
    "cv = CrossValidator(estimator=pipeline, evaluator=RegressionEvaluator(), estimatorParamMaps=paramGrid, numFolds=10)\n",
    "\n",
    "model = cv.fit(train)"
   ]
  },
  {
   "cell_type": "markdown",
   "metadata": {},
   "source": [
    "# Test the Model\n",
    "Now you're ready to apply the model to the test data."
   ]
  },
  {
   "cell_type": "code",
   "execution_count": 17,
   "metadata": {
    "collapsed": false
   },
   "outputs": [
    {
     "name": "stdout",
     "output_type": "stream",
     "text": [
      "+--------------------+--------------------+-----------+\n",
      "|            features|          prediction|  trueLabel|\n",
      "+--------------------+--------------------+-----------+\n",
      "|[7.05893979430249...|-2.359775038118547E7|      527.0|\n",
      "|[1.88238394514733...| -1.08063459724029E7|   115592.0|\n",
      "|[3.76476789029466...|-2.279897926315905E7|  1227508.0|\n",
      "|[4.2353638765815E...|-1.694766994468426E7|  2883661.0|\n",
      "|[5.41185384229858...|-2.65215965110816...|    82698.0|\n",
      "|[5.41185384229858...|  -2.6589207818315E7|   103509.0|\n",
      "|[8.23542976001958...|-2.047244450272656E7|   342722.0|\n",
      "|[2.18827133623377...|-1.634700346789869E7|    20056.0|\n",
      "|[2.98828451292139...|-1.17440890852902...|  8000000.0|\n",
      "|[3.60005929509427...| -1.91550488089697E7|    32092.0|\n",
      "|[4.07065528138111...|-1.02671506882275...|    17503.0|\n",
      "|[4.54125126766794...|-1.93421184220114...|     1217.0|\n",
      "|[4.54125126766794...|-2.730028563667472E7|   346106.0|\n",
      "|[4.54125126766794...|-2.76437745076366...|   140016.0|\n",
      "|[4.54125126766794...|-1.55588776652208...|   439651.0|\n",
      "|[5.71774123338502...|-2.709193401981476E7|   178095.0|\n",
      "|[5.71774123338502...|-2.67623306111571...|   191862.0|\n",
      "|[5.71774123338502...|-2.174299857366229E7|   743216.0|\n",
      "|[5.71774123338502...|-2.229496847909641E7|  2477155.0|\n",
      "|[5.71774123338502...|  -596717.9925553203|1.5155095E7|\n",
      "+--------------------+--------------------+-----------+\n",
      "only showing top 20 rows\n",
      "\n"
     ]
    }
   ],
   "source": [
    "prediction = model.transform(test)\n",
    "predicted = prediction.select(\"features\", \"prediction\", \"trueLabel\")\n",
    "predicted.show()"
   ]
  },
  {
   "cell_type": "markdown",
   "metadata": {},
   "source": [
    "# Examine the Predicted and Actual Values\n",
    "You can plot the predicted values against the actual values to see how accurately the model has predicted. In a perfect model, the resulting scatter plot should form a perfect diagonal line with each predicted value being identical to the actual value - in practice, some variance is to be expected.\n",
    "Run the cells below to create a temporary table from the **predicted** DataFrame and then retrieve the predicted and actual label values using SQL. You can then display the results as a scatter plot, specifying **-** as the function to show the unaggregated values."
   ]
  },
  {
   "cell_type": "code",
   "execution_count": 18,
   "metadata": {
    "collapsed": false
   },
   "outputs": [],
   "source": [
    "predicted.createOrReplaceTempView(\"regressionPredictions\")\n"
   ]
  },
  {
   "cell_type": "code",
   "execution_count": 19,
   "metadata": {
    "collapsed": false
   },
   "outputs": [
    {
     "data": {
      "image/png": "[encoded data removed]",
      "text/plain": [
       "<matplotlib.figure.Figure at 0x7f7bb0d4d3d0>"
      ]
     },
     "metadata": {},
     "output_type": "display_data"
    }
   ],
   "source": [
    "%matplotlib inline\n",
    "import pandas as pd\n",
    "import matplotlib\n",
    "import numpy as np\n",
    "import matplotlib.pyplot as plt\n",
    "from pandas.tools.plotting import scatter_matrix\n",
    "\n",
    "# Reference: http://standarderror.github.io/notes/Plotting-with-PySpark/\n",
    "dataPred = spark.sql(\"SELECT trueLabel, prediction FROM regressionPredictions\")\n",
    "# convert to pandas and plot\n",
    "regressionPredictionsPanda = dataPred.toPandas()\n",
    "stuff = scatter_matrix(regressionPredictionsPanda, alpha=0.7, figsize=(6, 6), diagonal='kde')"
   ]
  },
  {
   "cell_type": "markdown",
   "metadata": {},
   "source": [
    "# Retrieve the Root Mean Square Error (RMSE)\n",
    "There are a number of metrics used to measure the variance between predicted and actual values. Of these, the root mean square error (RMSE) is a commonly used value that is measured in the same units as the prediced and actual values - so in this case, the RMSE indicates the average number of minutes between predicted and actual flight delay values. You can use the **RegressionEvaluator** class to retrieve the RMSE.\n"
   ]
  },
  {
   "cell_type": "code",
   "execution_count": 20,
   "metadata": {
    "collapsed": false
   },
   "outputs": [
    {
     "name": "stdout",
     "output_type": "stream",
     "text": [
      "Root Mean Square Error (RMSE): 57188471.1788\n"
     ]
    }
   ],
   "source": [
    "evaluator = RegressionEvaluator(labelCol=\"trueLabel\", predictionCol=\"prediction\", metricName=\"rmse\")\n",
    "rmse = evaluator.evaluate(prediction)\n",
    "print \"Root Mean Square Error (RMSE):\", rmse"
   ]
  }
 ],
 "metadata": {
  "kernelspec": {
   "display_name": "Python 2 with Spark 2.0",
   "language": "python",
   "name": "python2-spark20"
  },
  "language_info": {
   "codemirror_mode": {
    "name": "ipython",
    "version": 2
   },
   "file_extension": ".py",
   "mimetype": "text/x-python",
   "name": "python",
   "nbconvert_exporter": "python",
   "pygments_lexer": "ipython2",
   "version": "2.7.11"
  }
 },
 "nbformat": 4,
 "nbformat_minor": 0
}